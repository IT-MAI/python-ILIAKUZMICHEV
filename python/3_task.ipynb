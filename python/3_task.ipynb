{
 "cells": [
  {
   "cell_type": "markdown",
   "id": "657be689",
   "metadata": {},
   "source": [
    "# Самостоятельное задание #3\n",
    "\n",
    "\n",
    "### Задание 1\n",
    "\n",
    "Допишите функцию, которая принимает массив из 10 чисел и возвращает их сумму."
   ]
  },
  {
   "cell_type": "code",
   "execution_count": 1,
   "id": "18ffcbab",
   "metadata": {},
   "outputs": [
    {
     "name": "stdout",
     "output_type": "stream",
     "text": [
      "1\n",
      "1\n",
      "1\n",
      "1\n",
      "1\n",
      "1\n",
      "1\n",
      "1\n",
      "1\n",
      "1\n",
      "10.0\n"
     ]
    }
   ],
   "source": [
    "def sum(mass):\n",
    "    counter=0\n",
    "    for i in mass:\n",
    "        counter+=i\n",
    "    return counter\n",
    "mass=[]\n",
    "for i in range(1,11):\n",
    "     mass.append(float(input()))\n",
    "print(sum(mass))"
   ]
  },
  {
   "cell_type": "markdown",
   "id": "eb78afc0",
   "metadata": {},
   "source": [
    "\n",
    "### Задание 2\n",
    "\n",
    "Допишите функцию, которая принимает массив чисел и возвращает количество чисел равных нулю."
   ]
  },
  {
   "cell_type": "code",
   "execution_count": 2,
   "id": "7e8fe536",
   "metadata": {},
   "outputs": [
    {
     "name": "stdout",
     "output_type": "stream",
     "text": [
      "1\n",
      "2\n",
      "0\n",
      "0\n",
      "0\n",
      "0\n",
      "7\n",
      "8\n",
      "9\n",
      "6\n",
      "количество нулей: 4\n"
     ]
    }
   ],
   "source": [
    "def sum(mass):\n",
    "    counter=0\n",
    "    for i in range(len(mass)):\n",
    "        if mass[i]==0:\n",
    "            counter+=1\n",
    "    return counter\n",
    "mass=[]\n",
    "for i in range(1,11):\n",
    "     mass.append(float(input()))\n",
    "print(\"количество нулей:\",sum(mass))"
   ]
  },
  {
   "cell_type": "markdown",
   "id": "570d5a26",
   "metadata": {},
   "source": [
    "\n",
    "### Задание 3\n",
    "\n",
    "Напишите программу, в которой задается  натуральное число n и выводится лестница из n ступенек, i-я ступенька должна состоять из чисел от 1 до i без пробелов."
   ]
  },
  {
   "cell_type": "code",
   "execution_count": 8,
   "id": "69fd0501",
   "metadata": {},
   "outputs": [
    {
     "name": "stdout",
     "output_type": "stream",
     "text": [
      "4\n",
      " 1\n",
      " 12\n",
      " 123\n",
      " 1234\n"
     ]
    }
   ],
   "source": [
    "n=int(input())\n",
    "cur=\" \"\n",
    "for i in range(1,n+1):\n",
    "    cur=cur+str(i)\n",
    "    print(cur)"
   ]
  },
  {
   "cell_type": "markdown",
   "id": "b6ef1c44",
   "metadata": {},
   "source": [
    "\n",
    "### Задание 4\n",
    "\n",
    "Напишите программу, в которой задается натуральное число n и выводится пирамида из n ступенек, i-я ступень должна состоять из чисел от 1 до i и обратно без пробелов."
   ]
  },
  {
   "cell_type": "code",
   "execution_count": 9,
   "id": "6b038f87",
   "metadata": {},
   "outputs": [
    {
     "name": "stdout",
     "output_type": "stream",
     "text": [
      "4\n",
      "    1 \n",
      "   121 \n",
      "  12321 \n",
      " 1234321 \n"
     ]
    }
   ],
   "source": [
    "n=int(input())\n",
    "cur=\" \"\n",
    "for i in range(1,n+1):\n",
    "    cur=cur+str(i)\n",
    "    print(' ' * (n-i) + cur + cur[-2::-1])"
   ]
  },
  {
   "cell_type": "markdown",
   "id": "b4552ef5",
   "metadata": {},
   "source": [
    "\n",
    "### Задание 5\n",
    "\n",
    "Напишите программу, в которой задается натуральное число n и выводится ромб из `n*2-1` ступенек, i-я ступень должна состоять из чисел от 1 до i и обратно без пробелов."
   ]
  },
  {
   "cell_type": "code",
   "execution_count": null,
   "id": "5eaae897",
   "metadata": {},
   "outputs": [],
   "source": [
    "n=int(input())\n",
    "cur=\" \"\n",
    "cur1=\" \"\n",
    "for i in range(1,n+1):\n",
    "    cur=cur+str(i)\n",
    "    print(' ' * (n-i) + cur + cur[-2::-1])\n",
    "for a in range(1,n):\n",
    "    cur1=cur1+str(a)\n",
    "    print(' ' * (a) + cur1 + cur1[-2::-1])\n",
    "\n",
    "    \n",
    "    \n",
    "    "
   ]
  },
  {
   "cell_type": "code",
   "execution_count": null,
   "id": "695ca963",
   "metadata": {},
   "outputs": [],
   "source": []
  }
 ],
 "metadata": {
  "kernelspec": {
   "display_name": "Python 3",
   "language": "python",
   "name": "python3"
  },
  "language_info": {
   "codemirror_mode": {
    "name": "ipython",
    "version": 3
   },
   "file_extension": ".py",
   "mimetype": "text/x-python",
   "name": "python",
   "nbconvert_exporter": "python",
   "pygments_lexer": "ipython3",
   "version": "3.8.8"
  }
 },
 "nbformat": 4,
 "nbformat_minor": 5
}
